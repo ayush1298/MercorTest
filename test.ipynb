{
 "cells": [
  {
   "cell_type": "code",
   "execution_count": 8,
   "id": "4ed0d739",
   "metadata": {},
   "outputs": [],
   "source": [
    "import json\n",
    "import pandas as pd"
   ]
  },
  {
   "cell_type": "code",
   "execution_count": 2,
   "id": "5039361f",
   "metadata": {},
   "outputs": [],
   "source": [
    "with open(\"/Users/ayushmunot/MercorTest/form-submissions.json\") as f:\n",
    "    data = json.load(f)"
   ]
  },
  {
   "cell_type": "code",
   "execution_count": 4,
   "id": "764b9c0c",
   "metadata": {},
   "outputs": [
    {
     "data": {
      "text/plain": [
       "dict_keys(['name', 'email', 'phone', 'location', 'submitted_at', 'work_availability', 'annual_salary_expectation', 'work_experiences', 'education', 'skills'])"
      ]
     },
     "execution_count": 4,
     "metadata": {},
     "output_type": "execute_result"
    }
   ],
   "source": [
    "data[0].keys()"
   ]
  },
  {
   "cell_type": "code",
   "execution_count": 5,
   "id": "c907a36e",
   "metadata": {},
   "outputs": [
    {
     "name": "stdout",
     "output_type": "stream",
     "text": [
      "All items have same fields: True\n",
      "Total unique fields found: 10\n",
      "All fields: ['annual_salary_expectation', 'education', 'email', 'location', 'name', 'phone', 'skills', 'submitted_at', 'work_availability', 'work_experiences']\n"
     ]
    }
   ],
   "source": [
    "# Get all unique keys across all items\n",
    "all_keys = set()\n",
    "for item in data:\n",
    "    all_keys.update(item.keys())\n",
    "\n",
    "# Check if all items have the same keys\n",
    "same_fields = True\n",
    "missing_fields = {}\n",
    "\n",
    "for i, item in enumerate(data):\n",
    "    item_keys = set(item.keys())\n",
    "    if item_keys != all_keys:\n",
    "        same_fields = False\n",
    "        missing = all_keys - item_keys\n",
    "        extra = item_keys - all_keys\n",
    "        if missing or extra:\n",
    "            missing_fields[i] = {\n",
    "                'missing': list(missing),\n",
    "                'extra': list(extra)\n",
    "            }\n",
    "\n",
    "print(f\"All items have same fields: {same_fields}\")\n",
    "print(f\"Total unique fields found: {len(all_keys)}\")\n",
    "print(f\"All fields: {sorted(all_keys)}\")\n",
    "\n",
    "if not same_fields:\n",
    "    print(f\"\\nItems with different fields: {len(missing_fields)}\")\n",
    "    for idx, differences in list(missing_fields.items())[:5]:  # Show first 5 examples\n",
    "        print(f\"Item {idx}: missing={differences['missing']}, extra={differences['extra']}\")"
   ]
  },
  {
   "cell_type": "code",
   "execution_count": 9,
   "id": "916a6c17",
   "metadata": {},
   "outputs": [
    {
     "data": {
      "text/plain": [
       "Index(['name', 'email', 'phone', 'location', 'submitted_at',\n",
       "       'work_availability', 'annual_salary_expectation', 'work_experiences',\n",
       "       'education', 'skills'],\n",
       "      dtype='object')"
      ]
     },
     "execution_count": 9,
     "metadata": {},
     "output_type": "execute_result"
    }
   ],
   "source": [
    "df = pd.DataFrame(data)\n",
    "df.columns"
   ]
  },
  {
   "cell_type": "code",
   "execution_count": null,
   "id": "d8022b02",
   "metadata": {},
   "outputs": [
    {
     "data": {
      "text/plain": [
       "{'company': 'StarLab Digital Ventures', 'roleName': 'Full Stack Developer'}"
      ]
     },
     "execution_count": 12,
     "metadata": {},
     "output_type": "execute_result"
    }
   ],
   "source": [
    "df['work_experiences'][0]"
   ]
  },
  {
   "cell_type": "code",
   "execution_count": 10,
   "id": "54e7ffdb",
   "metadata": {},
   "outputs": [
    {
     "data": {
      "text/html": [
       "<div>\n",
       "<style scoped>\n",
       "    .dataframe tbody tr th:only-of-type {\n",
       "        vertical-align: middle;\n",
       "    }\n",
       "\n",
       "    .dataframe tbody tr th {\n",
       "        vertical-align: top;\n",
       "    }\n",
       "\n",
       "    .dataframe thead th {\n",
       "        text-align: right;\n",
       "    }\n",
       "</style>\n",
       "<table border=\"1\" class=\"dataframe\">\n",
       "  <thead>\n",
       "    <tr style=\"text-align: right;\">\n",
       "      <th></th>\n",
       "      <th>name</th>\n",
       "      <th>email</th>\n",
       "      <th>phone</th>\n",
       "      <th>location</th>\n",
       "      <th>submitted_at</th>\n",
       "      <th>work_availability</th>\n",
       "      <th>annual_salary_expectation</th>\n",
       "      <th>work_experiences</th>\n",
       "      <th>education</th>\n",
       "      <th>skills</th>\n",
       "    </tr>\n",
       "  </thead>\n",
       "  <tbody>\n",
       "    <tr>\n",
       "      <th>0</th>\n",
       "      <td>Clever Monkey</td>\n",
       "      <td>clever-monkey@example.com</td>\n",
       "      <td>5582981474204</td>\n",
       "      <td>Maceió</td>\n",
       "      <td>2025-01-28 09:02:16.000000</td>\n",
       "      <td>[full-time, part-time]</td>\n",
       "      <td>{'full-time': '$117548'}</td>\n",
       "      <td>[{'company': 'StarLab Digital Ventures', 'role...</td>\n",
       "      <td>{'highest_level': 'Bachelor's Degree', 'degree...</td>\n",
       "      <td>[Data Analysis, Docker, Microservices]</td>\n",
       "    </tr>\n",
       "    <tr>\n",
       "      <th>1</th>\n",
       "      <td>Noble Flamingo</td>\n",
       "      <td>noble-flamingo@example.com</td>\n",
       "      <td>12156688210</td>\n",
       "      <td>Philadelphia</td>\n",
       "      <td>2025-01-26 07:40:39.000000</td>\n",
       "      <td>[full-time, part-time]</td>\n",
       "      <td>{'full-time': '$112253'}</td>\n",
       "      <td>[{'company': 'Intellectual Asset Management Gr...</td>\n",
       "      <td>{'highest_level': 'Juris Doctor (J.D)', 'degre...</td>\n",
       "      <td>[]</td>\n",
       "    </tr>\n",
       "    <tr>\n",
       "      <th>2</th>\n",
       "      <td>Noble Antelope</td>\n",
       "      <td>noble-antelope@example.com</td>\n",
       "      <td>8801993762548</td>\n",
       "      <td>Bangladesh</td>\n",
       "      <td>2025-01-28 07:29:47.000000</td>\n",
       "      <td>[full-time, part-time]</td>\n",
       "      <td>{'full-time': '$63556'}</td>\n",
       "      <td>[{'company': 'Red.Digital', 'roleName': 'Softw...</td>\n",
       "      <td>{'highest_level': 'Bachelor's Degree', 'degree...</td>\n",
       "      <td>[Laravel, Next JS, React, React Native, Redux,...</td>\n",
       "    </tr>\n",
       "    <tr>\n",
       "      <th>3</th>\n",
       "      <td>Unique Platypus</td>\n",
       "      <td>unique-platypus@example.com</td>\n",
       "      <td>55118120974</td>\n",
       "      <td>Brazil</td>\n",
       "      <td>2025-01-28 23:29:29.000000</td>\n",
       "      <td>[full-time, part-time]</td>\n",
       "      <td>{'full-time': '$143487'}</td>\n",
       "      <td>[{'company': 'Autônomo', 'roleName': 'Backend ...</td>\n",
       "      <td>{'highest_level': 'Bachelor's Degree', 'degree...</td>\n",
       "      <td>[Amazon Web Services, Python, Flask, Agile, RE...</td>\n",
       "    </tr>\n",
       "    <tr>\n",
       "      <th>4</th>\n",
       "      <td>Clever Jellyfish</td>\n",
       "      <td>clever-jellyfish@example.com</td>\n",
       "      <td>54169018596</td>\n",
       "      <td>Argentina</td>\n",
       "      <td>2025-01-29 03:45:30.000000</td>\n",
       "      <td>[full-time, part-time]</td>\n",
       "      <td>{'full-time': '$120152'}</td>\n",
       "      <td>[{'company': 'Ituran de Argentina', 'roleName'...</td>\n",
       "      <td>{'highest_level': 'Bachelor's Degree', 'degree...</td>\n",
       "      <td>[JavaScript, Arduino, Amazon Web Services, Azu...</td>\n",
       "    </tr>\n",
       "  </tbody>\n",
       "</table>\n",
       "</div>"
      ],
      "text/plain": [
       "               name                         email          phone  \\\n",
       "0     Clever Monkey     clever-monkey@example.com  5582981474204   \n",
       "1    Noble Flamingo    noble-flamingo@example.com    12156688210   \n",
       "2    Noble Antelope    noble-antelope@example.com  8801993762548   \n",
       "3   Unique Platypus   unique-platypus@example.com    55118120974   \n",
       "4  Clever Jellyfish  clever-jellyfish@example.com    54169018596   \n",
       "\n",
       "       location                submitted_at       work_availability  \\\n",
       "0        Maceió  2025-01-28 09:02:16.000000  [full-time, part-time]   \n",
       "1  Philadelphia  2025-01-26 07:40:39.000000  [full-time, part-time]   \n",
       "2    Bangladesh  2025-01-28 07:29:47.000000  [full-time, part-time]   \n",
       "3        Brazil  2025-01-28 23:29:29.000000  [full-time, part-time]   \n",
       "4     Argentina  2025-01-29 03:45:30.000000  [full-time, part-time]   \n",
       "\n",
       "  annual_salary_expectation  \\\n",
       "0  {'full-time': '$117548'}   \n",
       "1  {'full-time': '$112253'}   \n",
       "2   {'full-time': '$63556'}   \n",
       "3  {'full-time': '$143487'}   \n",
       "4  {'full-time': '$120152'}   \n",
       "\n",
       "                                    work_experiences  \\\n",
       "0  [{'company': 'StarLab Digital Ventures', 'role...   \n",
       "1  [{'company': 'Intellectual Asset Management Gr...   \n",
       "2  [{'company': 'Red.Digital', 'roleName': 'Softw...   \n",
       "3  [{'company': 'Autônomo', 'roleName': 'Backend ...   \n",
       "4  [{'company': 'Ituran de Argentina', 'roleName'...   \n",
       "\n",
       "                                           education  \\\n",
       "0  {'highest_level': 'Bachelor's Degree', 'degree...   \n",
       "1  {'highest_level': 'Juris Doctor (J.D)', 'degre...   \n",
       "2  {'highest_level': 'Bachelor's Degree', 'degree...   \n",
       "3  {'highest_level': 'Bachelor's Degree', 'degree...   \n",
       "4  {'highest_level': 'Bachelor's Degree', 'degree...   \n",
       "\n",
       "                                              skills  \n",
       "0             [Data Analysis, Docker, Microservices]  \n",
       "1                                                 []  \n",
       "2  [Laravel, Next JS, React, React Native, Redux,...  \n",
       "3  [Amazon Web Services, Python, Flask, Agile, RE...  \n",
       "4  [JavaScript, Arduino, Amazon Web Services, Azu...  "
      ]
     },
     "execution_count": 10,
     "metadata": {},
     "output_type": "execute_result"
    }
   ],
   "source": [
    "df.head()"
   ]
  },
  {
   "cell_type": "code",
   "execution_count": 13,
   "id": "15785459",
   "metadata": {},
   "outputs": [],
   "source": [
    "df.to_csv(\"/Users/ayushmunot/MercorTest/form-submissions.csv\", index=False)"
   ]
  },
  {
   "cell_type": "markdown",
   "id": "9043bab0",
   "metadata": {},
   "source": [
    "## Feature Engineering"
   ]
  },
  {
   "cell_type": "code",
   "execution_count": 14,
   "id": "d2200d68",
   "metadata": {},
   "outputs": [
    {
     "data": {
      "text/plain": [
       "name                           0\n",
       "email                          0\n",
       "phone                        160\n",
       "location                       0\n",
       "submitted_at                   0\n",
       "work_availability              0\n",
       "annual_salary_expectation      0\n",
       "work_experiences               0\n",
       "education                      0\n",
       "skills                         0\n",
       "dtype: int64"
      ]
     },
     "execution_count": 14,
     "metadata": {},
     "output_type": "execute_result"
    }
   ],
   "source": [
    "df.isna().sum()"
   ]
  },
  {
   "cell_type": "code",
   "execution_count": 21,
   "id": "e4fdca04",
   "metadata": {},
   "outputs": [
    {
     "data": {
      "text/plain": [
       "Index(['name', 'email', 'phone', 'location', 'submitted_at',\n",
       "       'work_availability', 'annual_salary_expectation', 'work_experiences',\n",
       "       'education', 'skills'],\n",
       "      dtype='object')"
      ]
     },
     "execution_count": 21,
     "metadata": {},
     "output_type": "execute_result"
    }
   ],
   "source": [
    "df.columns"
   ]
  },
  {
   "cell_type": "code",
   "execution_count": 20,
   "id": "93a23aa5",
   "metadata": {},
   "outputs": [
    {
     "name": "stdout",
     "output_type": "stream",
     "text": [
      "Unique values in 'location':\n",
      "['Maceió' 'Philadelphia' 'Bangladesh' 'Brazil' 'Argentina' 'Laguna'\n",
      " 'Manizales' 'UK' 'Maracay' 'Kingston' 'Spain' 'Hydrabad' 'United States'\n",
      " 'Rio de Janeiro' 'Amman' 'Bogotá' 'Colombia' 'Medellín' 'Timișoara'\n",
      " 'Caba' 'Italy' 'Posadas' 'London' 'Mendoza' 'Mirzapur' 'Pelotas'\n",
      " 'Salvador' 'Rosario' 'Villa Pueyrredon' 'Brasil' 'Malvern' 'Quilmes'\n",
      " 'Ecuador' 'Nigeria' 'Pakistan' 'Buffalo' 'Viet Nam' 'Seattle' 'CD Juárez'\n",
      " 'Wichita Falls' 'Luneburg' 'Ingolstadt' 'Troy' 'Porto Alegre' 'Canada'\n",
      " 'Richmond' 'Southbank' 'San Nicolas de los Garza' '' 'Nashville' 'Russia'\n",
      " 'New Brunswick' 'Barrie' 'Boulogne Sur Mer' 'São Paulo' 'AZ' 'Lahore'\n",
      " 'Broxburn' 'Ho Chi Minh City' 'Anápolis' 'Mexico' 'Maputo' 'Curitiba'\n",
      " 'Vila Velha' 'Cologne' 'Santa Catarina' 'Erlangen' 'Malaysia' 'Mobile'\n",
      " 'Brossard' 'Craiova' 'Ottumwa' 'Romania' 'Butantã' 'Chandler' 'España'\n",
      " 'Aracaju' 'Germany' 'Calgary' 'Southampton' 'Valencia' 'Sacramento'\n",
      " 'San Jose' 'Phoenix' 'Indonesia' 'Bogota' 'JUAREZ' 'Portugal' 'Harrison'\n",
      " 'Santa Fe' 'Belo Horizonte' 'Montreal' 'Bucharest' 'BR' 'Lima'\n",
      " 'Ciudad de México' 'Tuscaloosa' 'Venezuela' 'Surrey' 'Vancouver'\n",
      " 'Uruguay' 'Mozambique' 'Dunedin' 'Teodoro Sampaio' 'Durham' 'Saskatoon'\n",
      " 'Covina' 'Castelar' 'Perú' 'Toronto' 'Peru' 'Emeryville' 'Sudao' 'Dhaka'\n",
      " 'Chihuahua' 'Casey' 'Parets del Valles' 'Düsseldorf' 'BC' 'Geneva'\n",
      " 'Dubai' 'IN' 'Pune' 'Kalamazoo' 'United Kingdom' 'Bengaluru'\n",
      " 'Campina Grande' 'Hixson' 'Albania' 'Padova' 'Enta Nord' 'Tirana'\n",
      " 'Versalles' 'Alcindo Dell’agnese' 'Paulínia' 'Uberlândia' 'Egypt'\n",
      " 'New Cairo' 'Santiago de Queretaro' 'Waikkala' 'Minna' 'Poland' 'Chicago'\n",
      " 'Chapecó' 'Reid' 'United Arab Emirates' 'Buenos Aires' 'Sao Carlos'\n",
      " 'Nassarawa' 'Recife' 'Londrina' 'Brasilia' 'Timisoara' 'Point Cook'\n",
      " 'Campos dos Goytacazes' 'Tucumán' 'Araxá' 'Blumenau' 'Gurugram' 'CA'\n",
      " 'Montevideo' 'Campinas' 'Commerce Township' 'Irvine' 'Cascavel' 'Boston'\n",
      " 'Berlin' 'Southgate' 'UAE' 'Asunción' 'Totowa' 'Raleigh' 'Gravatai'\n",
      " 'Georgetown' 'CABA' 'Turkey' 'Pasadena' 'Uttara' 'Sydney' 'Orlando'\n",
      " 'San Fransisco Bay Area' 'Melbourne' 'Bangkok'\n",
      " 'San Nicolás de los Arroyos' 'Puteaux' 'Corrientes' 'Houston' 'Sao Luis'\n",
      " 'Esteio' 'Kandy' 'Joinville' 'Fremont' 'Federal District' 'Canonsburg'\n",
      " 'Sunbury-on-Thames' 'Mokopane' 'Hamilton' 'US' 'São José' 'Kampala'\n",
      " 'Godoy Cruz' 'Santiago' 'Vietnam' 'Mexico City' 'Sorocaba' 'Ukraine'\n",
      " 'San Miguel de Tucumán' 'Monte Grande' 'Babolsar' 'Divinopolis' 'Olinda'\n",
      " 'Kirkland' 'Mauritius' 'Atlanta' 'Bloomington' 'Fredericton' 'Guayaquil'\n",
      " 'Valparaíso de Goiás' 'Bratislava' 'Benalmádena' 'New York City' 'India`'\n",
      " 'New York' 'San Diego' 'Ribeirão Pires' 'Rio Cuarto' 'Juiz de Fora'\n",
      " 'Montenegro' 'Alberta' 'Goiânia' 'Brooklyn' 'Salto' 'Konstanz'\n",
      " 'Pueblo Nuevo' 'Fort Smith' 'Alexandria' 'Austin' 'Colombo' 'Olavarría'\n",
      " 'Pontevedra' 'Santo Domingo Este' 'Costa Rica' 'Araras' 'Chile'\n",
      " 'Milton Keynes' 'Warsaw' 'San Juan de Miraflores' 'Itajaí' 'Sao Paulo'\n",
      " 'Croatia' 'Quebec' 'Hermosillo' 'Brasília' 'Kuala Lumpur' 'Astoria'\n",
      " 'Australia' 'Ha Noi' 'Chisinau' 'Santa Mônica' 'Guelph' 'Denver' 'Goiana'\n",
      " 'Lomas de Zamora' 'Tallinn' 'Virginia' 'Lagos' 'Madison'\n",
      " 'Antiguo Cuscatlán' 'Mazatlán' 'Texas' 'Santo Andre' 'Bulgaria'\n",
      " 'San Sebastian de los Reyes' 'Greece' 'Haíti' 'Cairo' 'Ribeirao Preto'\n",
      " 'Jordan' 'Temple' 'Jersey City' 'Tempe' 'Saenz Peña' 'Cumming'\n",
      " 'Charlottesville' 'Ribeirão Preto' 'Tacna' 'Sta Fe' 'Aix-en-Provence'\n",
      " 'Artesia' 'Delta' 'Renton' 'Stuttgart' 'Budapest' 'South Weber'\n",
      " 'Mota del Cuervo' 'Auburn, AL' 'Florianopolis' 'Augsburg' 'Miami'\n",
      " 'Tehran' 'Rwanda' 'Monterrey' 'Cachoeiro de Itapemirim' 'Oak Park'\n",
      " 'Jakarta' 'Glendale' 'Napoleon' 'Oceanside' 'Winchester' 'Cedar Hill'\n",
      " 'Sofia' 'Abu Dhabi' 'NC' 'Berkeley' 'Roslyn' 'Philippines' 'FL'\n",
      " 'Austin, TX' 'Winnipeg' 'Palatine' 'Cincinnati' 'Guanajuato' 'Toledo'\n",
      " 'Miami Beach' 'Raleigh-Durham-Chapel Hill Area' 'Cluj-Napoca' 'Serbia'\n",
      " 'Lansing' 'Cracow' 'Drexel Hill' 'Washington' 'Morón' 'Kenya' 'Laredo'\n",
      " 'Ghana' 'Panama City' 'Roswell' 'Reed City' 'Camarillo' 'Nairobi'\n",
      " 'Dallas' 'Durango' 'Manila' 'Boynton Beach' 'Hurlingham' 'Fairview'\n",
      " 'Fortaleza' 'Los Angeles Metropolitan Area' 'Hartford' 'Pretoria'\n",
      " 'Bom Jardim' 'Palo Alto' 'Leander' 'Baton Rouge' 'Charlotte' 'Tampa'\n",
      " 'Bangalore' 'Tokyo' 'LA' 'Providence' 'Irving' 'Villa Nueva'\n",
      " 'Amuwo Odofin' 'Salta' 'Chelsea' 'Rosharon' 'Matosinhos' 'USA'\n",
      " 'Joaquim Távora' 'Itaberá' 'München' 'Mar del Plata' 'Tamilnadu' 'Ohio'\n",
      " 'San Francisco Bay Area' 'Eusébio' 'Yerevan' 'Broomfield' 'Lisbon'\n",
      " 'Victoria' 'Cumilla' 'Nutley' 'Sunnyvale' 'Los Angeles' 'The Randstad'\n",
      " 'Azerbaijan' 'Netherlands' 'San Pablo City' 'Centro – Arraial D’ Ajuda'\n",
      " 'Pinhais' 'Palma De Mallorca' 'MN' 'Guatemala' 'Corinto' 'Santo André'\n",
      " 'São José do Rio Preto' 'Doha' 'Ongole' 'São Bernardo do Campo'\n",
      " 'Guadalajara' 'San Francisco' 'Contagem' 'GBA' 'Columbia' 'Granada'\n",
      " 'San Juan' 'Córdoba' 'Roseville' 'Thuwal' 'Istanbul'\n",
      " 'North Richland Hills' 'Benidorm' 'College Park' 'Moknine' 'Maringa']\n",
      "\n",
      "Unique values in 'annual_salary_expectation':\n"
     ]
    },
    {
     "ename": "TypeError",
     "evalue": "unhashable type: 'dict'",
     "output_type": "error",
     "traceback": [
      "\u001b[0;31m---------------------------------------------------------------------------\u001b[0m",
      "\u001b[0;31mTypeError\u001b[0m                                 Traceback (most recent call last)",
      "Cell \u001b[0;32mIn[20], line 8\u001b[0m\n\u001b[1;32m      4\u001b[0m \u001b[38;5;66;03m# print(\"\\nUnique values in 'work_availability':\")\u001b[39;00m\n\u001b[1;32m      5\u001b[0m \u001b[38;5;66;03m# print(df['work_availability'].unique())\u001b[39;00m\n\u001b[1;32m      7\u001b[0m \u001b[38;5;28mprint\u001b[39m(\u001b[38;5;124m\"\u001b[39m\u001b[38;5;130;01m\\n\u001b[39;00m\u001b[38;5;124mUnique values in \u001b[39m\u001b[38;5;124m'\u001b[39m\u001b[38;5;124mannual_salary_expectation\u001b[39m\u001b[38;5;124m'\u001b[39m\u001b[38;5;124m:\u001b[39m\u001b[38;5;124m\"\u001b[39m)\n\u001b[0;32m----> 8\u001b[0m \u001b[38;5;28mprint\u001b[39m(\u001b[43mdf\u001b[49m\u001b[43m[\u001b[49m\u001b[38;5;124;43m'\u001b[39;49m\u001b[38;5;124;43mannual_salary_expectation\u001b[39;49m\u001b[38;5;124;43m'\u001b[39;49m\u001b[43m]\u001b[49m\u001b[38;5;241;43m.\u001b[39;49m\u001b[43munique\u001b[49m\u001b[43m(\u001b[49m\u001b[43m)\u001b[49m)\n\u001b[1;32m     10\u001b[0m \u001b[38;5;28mprint\u001b[39m(\u001b[38;5;124m\"\u001b[39m\u001b[38;5;130;01m\\n\u001b[39;00m\u001b[38;5;124mUnique values in \u001b[39m\u001b[38;5;124m'\u001b[39m\u001b[38;5;124meducation\u001b[39m\u001b[38;5;124m'\u001b[39m\u001b[38;5;124m:\u001b[39m\u001b[38;5;124m\"\u001b[39m)\n\u001b[1;32m     11\u001b[0m \u001b[38;5;28mprint\u001b[39m(df[\u001b[38;5;124m'\u001b[39m\u001b[38;5;124meducation\u001b[39m\u001b[38;5;124m'\u001b[39m]\u001b[38;5;241m.\u001b[39munique())\n",
      "File \u001b[0;32m~/MercorTest/.venv/lib/python3.9/site-packages/pandas/core/series.py:2416\u001b[0m, in \u001b[0;36mSeries.unique\u001b[0;34m(self)\u001b[0m\n\u001b[1;32m   2353\u001b[0m \u001b[38;5;28;01mdef\u001b[39;00m\u001b[38;5;250m \u001b[39m\u001b[38;5;21munique\u001b[39m(\u001b[38;5;28mself\u001b[39m) \u001b[38;5;241m-\u001b[39m\u001b[38;5;241m>\u001b[39m ArrayLike:  \u001b[38;5;66;03m# pylint: disable=useless-parent-delegation\u001b[39;00m\n\u001b[1;32m   2354\u001b[0m \u001b[38;5;250m    \u001b[39m\u001b[38;5;124;03m\"\"\"\u001b[39;00m\n\u001b[1;32m   2355\u001b[0m \u001b[38;5;124;03m    Return unique values of Series object.\u001b[39;00m\n\u001b[1;32m   2356\u001b[0m \n\u001b[0;32m   (...)\u001b[0m\n\u001b[1;32m   2414\u001b[0m \u001b[38;5;124;03m    Categories (3, object): ['a' < 'b' < 'c']\u001b[39;00m\n\u001b[1;32m   2415\u001b[0m \u001b[38;5;124;03m    \"\"\"\u001b[39;00m\n\u001b[0;32m-> 2416\u001b[0m     \u001b[38;5;28;01mreturn\u001b[39;00m \u001b[38;5;28;43msuper\u001b[39;49m\u001b[43m(\u001b[49m\u001b[43m)\u001b[49m\u001b[38;5;241;43m.\u001b[39;49m\u001b[43munique\u001b[49m\u001b[43m(\u001b[49m\u001b[43m)\u001b[49m\n",
      "File \u001b[0;32m~/MercorTest/.venv/lib/python3.9/site-packages/pandas/core/base.py:1029\u001b[0m, in \u001b[0;36mIndexOpsMixin.unique\u001b[0;34m(self)\u001b[0m\n\u001b[1;32m   1027\u001b[0m     result \u001b[38;5;241m=\u001b[39m values\u001b[38;5;241m.\u001b[39munique()\n\u001b[1;32m   1028\u001b[0m \u001b[38;5;28;01melse\u001b[39;00m:\n\u001b[0;32m-> 1029\u001b[0m     result \u001b[38;5;241m=\u001b[39m \u001b[43malgorithms\u001b[49m\u001b[38;5;241;43m.\u001b[39;49m\u001b[43munique1d\u001b[49m\u001b[43m(\u001b[49m\u001b[43mvalues\u001b[49m\u001b[43m)\u001b[49m\n\u001b[1;32m   1030\u001b[0m \u001b[38;5;28;01mreturn\u001b[39;00m result\n",
      "File \u001b[0;32m~/MercorTest/.venv/lib/python3.9/site-packages/pandas/core/algorithms.py:401\u001b[0m, in \u001b[0;36munique\u001b[0;34m(values)\u001b[0m\n\u001b[1;32m    307\u001b[0m \u001b[38;5;28;01mdef\u001b[39;00m\u001b[38;5;250m \u001b[39m\u001b[38;5;21munique\u001b[39m(values):\n\u001b[1;32m    308\u001b[0m \u001b[38;5;250m    \u001b[39m\u001b[38;5;124;03m\"\"\"\u001b[39;00m\n\u001b[1;32m    309\u001b[0m \u001b[38;5;124;03m    Return unique values based on a hash table.\u001b[39;00m\n\u001b[1;32m    310\u001b[0m \n\u001b[0;32m   (...)\u001b[0m\n\u001b[1;32m    399\u001b[0m \u001b[38;5;124;03m    array([('a', 'b'), ('b', 'a'), ('a', 'c')], dtype=object)\u001b[39;00m\n\u001b[1;32m    400\u001b[0m \u001b[38;5;124;03m    \"\"\"\u001b[39;00m\n\u001b[0;32m--> 401\u001b[0m     \u001b[38;5;28;01mreturn\u001b[39;00m \u001b[43munique_with_mask\u001b[49m\u001b[43m(\u001b[49m\u001b[43mvalues\u001b[49m\u001b[43m)\u001b[49m\n",
      "File \u001b[0;32m~/MercorTest/.venv/lib/python3.9/site-packages/pandas/core/algorithms.py:440\u001b[0m, in \u001b[0;36munique_with_mask\u001b[0;34m(values, mask)\u001b[0m\n\u001b[1;32m    438\u001b[0m table \u001b[38;5;241m=\u001b[39m hashtable(\u001b[38;5;28mlen\u001b[39m(values))\n\u001b[1;32m    439\u001b[0m \u001b[38;5;28;01mif\u001b[39;00m mask \u001b[38;5;129;01mis\u001b[39;00m \u001b[38;5;28;01mNone\u001b[39;00m:\n\u001b[0;32m--> 440\u001b[0m     uniques \u001b[38;5;241m=\u001b[39m \u001b[43mtable\u001b[49m\u001b[38;5;241;43m.\u001b[39;49m\u001b[43munique\u001b[49m\u001b[43m(\u001b[49m\u001b[43mvalues\u001b[49m\u001b[43m)\u001b[49m\n\u001b[1;32m    441\u001b[0m     uniques \u001b[38;5;241m=\u001b[39m _reconstruct_data(uniques, original\u001b[38;5;241m.\u001b[39mdtype, original)\n\u001b[1;32m    442\u001b[0m     \u001b[38;5;28;01mreturn\u001b[39;00m uniques\n",
      "File \u001b[0;32mpandas/_libs/hashtable_class_helper.pxi:7260\u001b[0m, in \u001b[0;36mpandas._libs.hashtable.PyObjectHashTable.unique\u001b[0;34m()\u001b[0m\n",
      "File \u001b[0;32mpandas/_libs/hashtable_class_helper.pxi:7203\u001b[0m, in \u001b[0;36mpandas._libs.hashtable.PyObjectHashTable._unique\u001b[0;34m()\u001b[0m\n",
      "\u001b[0;31mTypeError\u001b[0m: unhashable type: 'dict'"
     ]
    }
   ],
   "source": [
    "print(\"Unique values in 'location':\")\n",
    "print(df['location'].unique())\n",
    "\n",
    "# print(\"\\nUnique values in 'work_availability':\")\n",
    "# print(df['work_availability'].unique())\n",
    "\n",
    "print(\"\\nUnique values in 'annual_salary_expectation':\")\n",
    "print(df['annual_salary_expectation'].unique())\n",
    "\n",
    "print(\"\\nUnique values in 'education':\")\n",
    "print(df['education'].unique())\n",
    "\n",
    "print(\"\\nUnique values in 'skills':\")\n",
    "print(df['skills'].unique())"
   ]
  },
  {
   "cell_type": "code",
   "execution_count": null,
   "id": "afe3f02d",
   "metadata": {},
   "outputs": [],
   "source": []
  }
 ],
 "metadata": {
  "kernelspec": {
   "display_name": ".venv",
   "language": "python",
   "name": "python3"
  },
  "language_info": {
   "codemirror_mode": {
    "name": "ipython",
    "version": 3
   },
   "file_extension": ".py",
   "mimetype": "text/x-python",
   "name": "python",
   "nbconvert_exporter": "python",
   "pygments_lexer": "ipython3",
   "version": "3.9.6"
  }
 },
 "nbformat": 4,
 "nbformat_minor": 5
}
